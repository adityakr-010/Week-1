{
  "nbformat": 4,
  "nbformat_minor": 0,
  "metadata": {
    "colab": {
      "provenance": []
    },
    "kernelspec": {
      "name": "python3",
      "display_name": "Python 3"
    },
    "language_info": {
      "name": "python"
    }
  },
  "cells": [
    {
      "cell_type": "code",
      "execution_count": null,
      "metadata": {
        "id": "pSXmfUVce0KV"
      },
      "outputs": [],
      "source": [
        "import streamlit as st\n",
        "import numpy as np\n",
        "import joblib\n",
        "\n",
        
        "model = joblib.load(\"IRRGATION.pkl\")\n",
        "\n",
        "st.title(\"Smart Sprinkler System\")\n",
        "st.subheader(\"Enter scaled sensor values (0 to 1) to predict sprinkler status\")\n",
        "\n",
        
        "expected_features = model.n_features_in_\n",
        "\n",
        
        "sensor_values = []\n",
        "for i in range(expected_features):\n",
        "    val = st.slider(f\"Sensor {i+1}\", min_value=0.0, max_value=1.0, value=0.5, step=0.01)\n",
        "    sensor_values.append(val)\n",
        "\n",
        "if st.button(\"Predict Sprinklers\"):\n",
        "    input_array = np.array(sensor_values).reshape(1, -1)\n",
        "    prediction = model.predict(input_array)[0]\n",
        "\n",
        "    st.markdown(\"### Prediction:\")\n",
        "    for i, status in enumerate(prediction):\n",
        "        st.write(f\"Sprinkler {i+1} (parcel_{i+1}): {'ON' if status == 1 else 'OFF'}\")"
      ]
    }
  ]
}
